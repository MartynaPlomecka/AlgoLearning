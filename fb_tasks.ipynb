{
 "cells": [
  {
   "cell_type": "markdown",
   "metadata": {},
   "source": [
    "### rotational cipher"
   ]
  },
  {
   "cell_type": "code",
   "execution_count": 6,
   "metadata": {},
   "outputs": [],
   "source": [
    "def rotationalCipher(s, factor):\n",
    "    out = ''\n",
    "    for c in s:\n",
    "        if c.isnumeric():\n",
    "            out += str((int(c) + factor) % 10)\n",
    "        elif c.isupper():\n",
    "            temp = (ord(c)-ord('A') + factor) % 26\n",
    "            out += chr(ord('A') + temp)\n",
    "        elif c.islower():\n",
    "            temp = (ord(c)-ord('a') + factor) % 26\n",
    "            out += chr(ord('a') + temp)\n",
    "        else:\n",
    "            out += c\n",
    "    return out\n"
   ]
  },
  {
   "cell_type": "code",
   "execution_count": 7,
   "metadata": {},
   "outputs": [
    {
     "name": "stdout",
     "output_type": "stream",
     "text": [
      "✓Test #1\n",
      "✓Test #2\n"
     ]
    }
   ],
   "source": [
    "def printString(string):\n",
    "  print('[\\\"', string, '\\\"]', sep='', end='')\n",
    "\n",
    "test_case_number = 1\n",
    "\n",
    "def check(expected, output):\n",
    "  global test_case_number\n",
    "  result = False\n",
    "  if expected == output:\n",
    "    result = True\n",
    "  rightTick = '\\u2713'\n",
    "  wrongTick = '\\u2717'\n",
    "  if result:\n",
    "    print(rightTick, 'Test #', test_case_number, sep='')\n",
    "  else:\n",
    "    print(wrongTick, 'Test #', test_case_number, ': Expected ', sep='', end='')\n",
    "    printString(expected)\n",
    "    print(' Your output: ', end='')\n",
    "    printString(output)\n",
    "    print()\n",
    "  test_case_number += 1\n",
    "\n",
    "if __name__ == \"__main__\":\n",
    "  input_1 = \"All-convoYs-9-be:Alert1.\"\n",
    "  rotation_factor_1 = 4\n",
    "  expected_1 = \"Epp-gsrzsCw-3-fi:Epivx5.\"\n",
    "  output_1 = rotationalCipher(input_1, rotation_factor_1)\n",
    "  check(expected_1, output_1)\n",
    "\n",
    "  input_2 = \"abcdZXYzxy-999.@\"\n",
    "  rotation_factor_2 = 200\n",
    "  expected_2 = \"stuvRPQrpq-999.@\"\n",
    "  output_2 = rotationalCipher(input_2, rotation_factor_2)\n",
    "  check(expected_2, output_2)"
   ]
  },
  {
   "cell_type": "code",
   "execution_count": null,
   "metadata": {},
   "outputs": [],
   "source": []
  }
 ],
 "metadata": {
  "interpreter": {
   "hash": "f5ffb64ea58d46e3ac9f40c0486ca17668ebb7b8e6985b3435ef99c92c026b26"
  },
  "kernelspec": {
   "display_name": "Python 3.7.12 64-bit ('knowledge_graph-FjLIWlg-': pipenv)",
   "name": "python3"
  },
  "language_info": {
   "codemirror_mode": {
    "name": "ipython",
    "version": 3
   },
   "file_extension": ".py",
   "mimetype": "text/x-python",
   "name": "python",
   "nbconvert_exporter": "python",
   "pygments_lexer": "ipython3",
   "version": "3.7.12"
  },
  "orig_nbformat": 4
 },
 "nbformat": 4,
 "nbformat_minor": 2
}
