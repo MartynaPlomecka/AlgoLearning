{
 "cells": [
  {
   "cell_type": "markdown",
   "metadata": {},
   "source": [
    "#### anagram "
   ]
  },
  {
   "cell_type": "code",
   "execution_count": 2,
   "metadata": {},
   "outputs": [],
   "source": [
    "def anagrams(s1,s2):\n",
    "    if len(s1)!= len(s2):\n",
    "        return False\n",
    "    freq1 = {} #hash table\n",
    "    freq2 = {}\n",
    "    for ch in s1:\n",
    "        if ch in freq1:\n",
    "            freq1[ch]+=1\n",
    "        else:\n",
    "            freq1[ch] = 1\n",
    "    for ch in s2:\n",
    "        if ch in freq2:\n",
    "            freq2[ch]+=1\n",
    "        else:\n",
    "            freq2[ch] = 1\n",
    "    for key in freq1:\n",
    "        if key not in freq2 or freq1[key]!= freq2[key]:\n",
    "            return False\n",
    "    else:\n",
    "        print('yup')"
   ]
  },
  {
   "cell_type": "code",
   "execution_count": 5,
   "metadata": {},
   "outputs": [
    {
     "name": "stdout",
     "output_type": "stream",
     "text": [
      "yup\n"
     ]
    }
   ],
   "source": [
    "anagrams('dupa','duap')"
   ]
  },
  {
   "cell_type": "code",
   "execution_count": 6,
   "metadata": {},
   "outputs": [
    {
     "data": {
      "text/plain": [
       "False"
      ]
     },
     "execution_count": 6,
     "metadata": {},
     "output_type": "execute_result"
    }
   ],
   "source": [
    "anagrams('dupa','duadp')"
   ]
  },
  {
   "cell_type": "code",
   "execution_count": 7,
   "metadata": {},
   "outputs": [
    {
     "name": "stdout",
     "output_type": "stream",
     "text": [
      "yup\n"
     ]
    }
   ],
   "source": [
    "anagrams('','')"
   ]
  }
 ],
 "metadata": {
  "interpreter": {
   "hash": "d54e65d1853bcf7e5c23548375859d847a9e9eef33ce6e72eaa4fb59de438e4c"
  },
  "kernelspec": {
   "display_name": "Python 3.9.9 64-bit ('AlgorithmsPython-WC7NmhEg': venv)",
   "name": "python3"
  },
  "language_info": {
   "codemirror_mode": {
    "name": "ipython",
    "version": 3
   },
   "file_extension": ".py",
   "mimetype": "text/x-python",
   "name": "python",
   "nbconvert_exporter": "python",
   "pygments_lexer": "ipython3",
   "version": "3.9.9"
  },
  "orig_nbformat": 4
 },
 "nbformat": 4,
 "nbformat_minor": 2
}
