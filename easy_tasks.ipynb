{
 "cells": [
  {
   "cell_type": "code",
   "execution_count": null,
   "metadata": {},
   "outputs": [],
   "source": [
    "cd ~/.local    \n",
    "cd AlgorithmsPython-WC7NmhEg\n",
    "source bin/activate"
   ]
  },
  {
   "cell_type": "markdown",
   "metadata": {},
   "source": [
    "#### anagram "
   ]
  },
  {
   "cell_type": "code",
   "execution_count": 2,
   "metadata": {},
   "outputs": [],
   "source": [
    "def anagrams(s1,s2):\n",
    "    if len(s1)!= len(s2):\n",
    "        return False\n",
    "    freq1 = {} #hash table\n",
    "    freq2 = {}\n",
    "    for ch in s1:\n",
    "        if ch in freq1:\n",
    "            freq1[ch]+=1\n",
    "        else:\n",
    "            freq1[ch] = 1\n",
    "    for ch in s2:\n",
    "        if ch in freq2:\n",
    "            freq2[ch]+=1\n",
    "        else:\n",
    "            freq2[ch] = 1\n",
    "    for key in freq1:\n",
    "        if key not in freq2 or freq1[key]!= freq2[key]:\n",
    "            return False\n",
    "    else:\n",
    "        print('yup')"
   ]
  },
  {
   "cell_type": "code",
   "execution_count": 11,
   "metadata": {},
   "outputs": [
    {
     "name": "stdout",
     "output_type": "stream",
     "text": [
      "yup\n"
     ]
    },
    {
     "data": {
      "text/plain": [
       "False"
      ]
     },
     "execution_count": 11,
     "metadata": {},
     "output_type": "execute_result"
    }
   ],
   "source": [
    "anagrams('dupa','duap')\n",
    "anagrams('dupa','duadp')\n"
   ]
  },
  {
   "cell_type": "markdown",
   "metadata": {},
   "source": [
    "#### parenthesis is_balanced"
   ]
  },
  {
   "cell_type": "code",
   "execution_count": 18,
   "metadata": {},
   "outputs": [],
   "source": [
    "\"\"\"\n",
    "Stack Data Structure Implementation\n",
    "\"\"\"\n",
    "class Stack():\n",
    "    def __init__(self):\n",
    "        self.items = []\n",
    "\n",
    "    def push(self, item):\n",
    "        self.items.append(item)\t\t\t\t\n",
    "\n",
    "    def pop(self):\n",
    "        \n",
    "        return self.items.pop()\n",
    "    \n",
    "    def is_empty(self):\n",
    "        return self.items == []\n",
    "    \n",
    "    def peek(self):\n",
    "        if not self.is_empty():\n",
    "            return self.items[-1]\n",
    "        \n",
    "    def get_stack(self):\n",
    "        return self.items"
   ]
  },
  {
   "cell_type": "code",
   "execution_count": 19,
   "metadata": {},
   "outputs": [],
   "source": [
    "def is_match(p1,p2):\n",
    "    if p1 == '(' and p2 == \")\":\n",
    "        return True\n",
    "    elif p1 ==\"[\" and p2 == \"]\":\n",
    "        return True\n",
    "    elif p1 ==\"{\" and p2 ==\"}\":\n",
    "        return True\n",
    "    else:\n",
    "        return False"
   ]
  },
  {
   "cell_type": "code",
   "execution_count": 20,
   "metadata": {},
   "outputs": [],
   "source": [
    "def is_balanced(paren_string):\n",
    "    s = Stack()\n",
    "    is_balanced = True\n",
    "    index = 0\n",
    "\n",
    "    while index < len(paren_string) and is_balanced:\n",
    "        paren = paren_string[index]\n",
    "        if paren in \"[{(\":\n",
    "            s.push(paren)\n",
    "        else:\n",
    "            if s.is_empty():\n",
    "                is_balanced = False\n",
    "                break\n",
    "            else:\n",
    "                top = s.pop()\n",
    "                if not is_match(top, paren):\n",
    "                    is_balanced = False\n",
    "                    break\n",
    "        index += 1\n",
    "\n",
    "    if s.is_empty() and is_balanced:\n",
    "        return True\n",
    "    else:\n",
    "        return False\n",
    "                "
   ]
  },
  {
   "cell_type": "code",
   "execution_count": 21,
   "metadata": {},
   "outputs": [
    {
     "name": "stdout",
     "output_type": "stream",
     "text": [
      "String : (((({})))) Balanced or not?\n",
      "True\n"
     ]
    }
   ],
   "source": [
    "print(\"String : (((({})))) Balanced or not?\")\n",
    "print(is_balanced(\"(((({}))))\"))"
   ]
  },
  {
   "cell_type": "markdown",
   "metadata": {},
   "source": [
    "#### integer into decimal"
   ]
  },
  {
   "cell_type": "code",
   "execution_count": 22,
   "metadata": {},
   "outputs": [
    {
     "name": "stdout",
     "output_type": "stream",
     "text": [
      "111000\n",
      "10\n",
      "100000\n",
      "1010\n",
      "True\n"
     ]
    }
   ],
   "source": [
    "def convert_int_to_bin(dec_num):\n",
    "    \n",
    "    if dec_num == 0:\n",
    "        return 0\n",
    "    \n",
    "    s = Stack()\n",
    "\n",
    "    while dec_num > 0:\n",
    "        remainder = dec_num % 2\n",
    "        s.push(remainder)\n",
    "        dec_num = dec_num // 2\n",
    "\n",
    "    bin_num = \"\"\n",
    "    while not s.is_empty():\n",
    "        bin_num += str(s.pop())\n",
    "\n",
    "    return bin_num\n",
    "\n",
    "print(convert_int_to_bin(56))\n",
    "print(convert_int_to_bin(2))\n",
    "print(convert_int_to_bin(32))\n",
    "print(convert_int_to_bin(10))\n",
    "print(int(convert_int_to_bin(56),2)==56)"
   ]
  },
  {
   "cell_type": "markdown",
   "metadata": {},
   "source": [
    "#### reverse_string"
   ]
  },
  {
   "cell_type": "code",
   "execution_count": 27,
   "metadata": {},
   "outputs": [
    {
     "name": "stdout",
     "output_type": "stream",
     "text": [
      "Dupa!\n"
     ]
    }
   ],
   "source": [
    "def reverse_string(input_str):\n",
    "  for i in range(len(input_str)):\n",
    "    stack.push(input_str[i])\n",
    "  rev_str = \"\"\n",
    "  while not stack.is_empty():\n",
    "    rev_str += stack.pop()\n",
    "\n",
    "  return rev_str\n",
    "\n",
    "stack = Stack()\n",
    "input_str = \"!apuD\"\n",
    "print(reverse_string(input_str))"
   ]
  },
  {
   "cell_type": "code",
   "execution_count": null,
   "metadata": {},
   "outputs": [],
   "source": []
  }
 ],
 "metadata": {
  "interpreter": {
   "hash": "d54e65d1853bcf7e5c23548375859d847a9e9eef33ce6e72eaa4fb59de438e4c"
  },
  "kernelspec": {
   "display_name": "Python 3.9.9 64-bit ('AlgorithmsPython-WC7NmhEg': venv)",
   "name": "python3"
  },
  "language_info": {
   "codemirror_mode": {
    "name": "ipython",
    "version": 3
   },
   "file_extension": ".py",
   "mimetype": "text/x-python",
   "name": "python",
   "nbconvert_exporter": "python",
   "pygments_lexer": "ipython3",
   "version": "3.9.9"
  },
  "orig_nbformat": 4
 },
 "nbformat": 4,
 "nbformat_minor": 2
}
